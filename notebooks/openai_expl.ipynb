{
 "cells": [
  {
   "cell_type": "code",
   "execution_count": 2,
   "id": "875032b8",
   "metadata": {},
   "outputs": [],
   "source": [
    "import os\n",
    "from openai import AzureOpenAI\n",
    "\n",
    "endpoint = \"https://byteforceopenai.openai.azure.com/\"\n",
    "model_name = \"o3-mini\"\n",
    "deployment = \"o3-mini\"\n",
    "\n",
    "subscription_key = \"<your-api-key>\"\n",
    "with open(\"../api_key.txt\", \"r\") as f:\n",
    "    subscription_key = f.read().strip()\n",
    "api_version = \"2024-12-01-preview\"\n",
    "\n",
    "client = AzureOpenAI(\n",
    "    api_version=api_version,\n",
    "    azure_endpoint=endpoint,\n",
    "    api_key=subscription_key,\n",
    ")"
   ]
  },
  {
   "cell_type": "code",
   "execution_count": 3,
   "id": "3bdac872",
   "metadata": {},
   "outputs": [
    {
     "name": "stdout",
     "output_type": "stream",
     "text": [
      "There’s a wealth of history, art, and culture to explore in Paris! Here are some must-see attractions and a few suggestions to help you plan your itinerary:\n",
      "\n",
      "1. Eiffel Tower – As Paris’s iconic symbol, it’s a must. Consider going up for panoramic views (booking tickets in advance can save you time) or enjoy a picnic in the Champ de Mars nearby.\n",
      "\n",
      "2. Louvre Museum – Home to masterpieces like the Mona Lisa and the Venus de Milo, the Louvre is vast and can take a full day to explore. Check out guided tours or themed trails to focus on your favorite art periods.\n",
      "\n",
      "3. Musée d’Orsay – Housed in a former railway station, this museum focuses on Impressionist and post-Impressionist art and is less overwhelming than the Louvre for an afternoon visit.\n",
      "\n",
      "4. Notre-Dame and the Île de la Cité – Although the interior of Notre-Dame has been under restoration following the fire, the exterior and the surrounding historic quarter are still atmospheric. You can also visit Sainte-Chapelle nearby to admire its stunning stained-glass windows.\n",
      "\n",
      "5. Montmartre and Sacré-Cœur – Wander through the bohemian neighborhoods of Montmartre, known for its artistic history, winding streets, and the breathtaking view of the city from the steps of Sacré-Cœur Basilica.\n",
      "\n",
      "6. Champs-Élysées and Arc de Triomphe – Take a stroll along Paris’s famous avenue, ending at the Arc de Triomphe, where you can climb to the top for more iconic views down the grand boulevards.\n",
      "\n",
      "7. Seine River Cruise – For a different perspective of the city’s landmarks, consider a boat cruise along the Seine, especially in the evening when the city is beautifully lit up.\n",
      "\n",
      "8. Le Marais and the Latin Quarter – Explore these neighborhoods for boutique shops, charming cafés, and a mix of historical sites (like the Place des Vosges in Le Marais or the Pantheon in the Latin Quarter).\n",
      "\n",
      "Remember, Paris is also about the experience—savor the local cuisine in a café, enjoy fresh pastries, or relax in one of the city’s lovely parks like the Luxembourg Gardens. Whether you’re into art, history, or simply soaking in the ambiance, you’re sure to have a memorable time!\n"
     ]
    }
   ],
   "source": [
    "response = client.chat.completions.create(\n",
    "    messages=[\n",
    "        {\n",
    "            \"role\": \"system\",\n",
    "            \"content\": \"You are a helpful assistant.\",\n",
    "        },\n",
    "        {\n",
    "            \"role\": \"user\",\n",
    "            \"content\": \"I am going to Paris, what should I see?\",\n",
    "        }\n",
    "    ],\n",
    "    max_completion_tokens=100000,\n",
    "    model=deployment\n",
    ")\n",
    "\n",
    "print(response.choices[0].message.content)"
   ]
  },
  {
   "cell_type": "code",
   "execution_count": null,
   "id": "12e87abf",
   "metadata": {},
   "outputs": [],
   "source": []
  }
 ],
 "metadata": {
  "kernelspec": {
   "display_name": "reboot_env",
   "language": "python",
   "name": "python3"
  },
  "language_info": {
   "codemirror_mode": {
    "name": "ipython",
    "version": 3
   },
   "file_extension": ".py",
   "mimetype": "text/x-python",
   "name": "python",
   "nbconvert_exporter": "python",
   "pygments_lexer": "ipython3",
   "version": "3.12.8"
  }
 },
 "nbformat": 4,
 "nbformat_minor": 5
}
